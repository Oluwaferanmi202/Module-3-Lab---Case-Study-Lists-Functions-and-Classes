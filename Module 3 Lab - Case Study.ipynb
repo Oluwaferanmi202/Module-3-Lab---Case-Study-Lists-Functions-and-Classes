{
 "cells": [
  {
   "cell_type": "code",
   "execution_count": 2,
   "id": "edf5617f-28d2-470a-8cc5-72d5182fa97f",
   "metadata": {},
   "outputs": [
    {
     "name": "stdin",
     "output_type": "stream",
     "text": [
      "Enter year:  2013\n",
      "Enter make:  toyota\n",
      "Enter model:  corolla\n",
      "Enter number of doors:  4\n",
      "Enter type of roof:  solid\n"
     ]
    },
    {
     "name": "stdout",
     "output_type": "stream",
     "text": [
      "Entered details are =>\n",
      "Vehicle type: car\n",
      "Year: 2013\n",
      "Make: toyota\n",
      "Model: corolla\n",
      "Number of doors: 4\n",
      "Type of roof: solid\n"
     ]
    }
   ],
   "source": [
    "# super class\n",
    "class Vehicle:\n",
    "    def __init__(self, vehicle_type):\n",
    "        self.vehicle_type = vehicle_type\n",
    "\n",
    "\n",
    "# child class\n",
    "class Automobile(Vehicle):\n",
    "    def __init__(self, vehicle_type, year, make, model, doors, roof):\n",
    "        # call super class constructor\n",
    "        Vehicle.__init__(self, vehicle_type)\n",
    "        self.year = year\n",
    "        self.make = make\n",
    "        self.model = model\n",
    "        self.doors = doors\n",
    "        self.roof = roof\n",
    "\n",
    "    # method to return data in required format\n",
    "    def __str__(self):\n",
    "        return \"Vehicle type: \" + self.vehicle_type + \"\\nYear: \" + self.year + \"\\nMake: \" + self.make + \"\\nModel: \" + self.model + \"\\nNumber of doors: \" + self.doors + \"\\nType of roof: \" + self.roof\n",
    "\n",
    "\n",
    "if __name__ == \"__main__\":\n",
    "    # get year, make, model, doors and roof from user\n",
    "    year = input(\"Enter year: \")\n",
    "    make = input(\"Enter make: \")\n",
    "    model = input(\"Enter model: \")\n",
    "    doors = input(\"Enter number of doors: \")\n",
    "    roof = input(\"Enter type of roof: \")\n",
    "    # create an object of Vehicle type as car\n",
    "    carObj = Automobile(\"car\", year, make, model, doors, roof)\n",
    "    # print details\n",
    "    print(\"Entered details are =>\")\n",
    "    print(carObj)"
   ]
  }
 ],
 "metadata": {
  "kernelspec": {
   "display_name": "Python 3 (ipykernel)",
   "language": "python",
   "name": "python3"
  },
  "language_info": {
   "codemirror_mode": {
    "name": "ipython",
    "version": 3
   },
   "file_extension": ".py",
   "mimetype": "text/x-python",
   "name": "python",
   "nbconvert_exporter": "python",
   "pygments_lexer": "ipython3",
   "version": "3.12.7"
  }
 },
 "nbformat": 4,
 "nbformat_minor": 5
}
